{
 "cells": [
  {
   "cell_type": "code",
   "execution_count": 1,
   "id": "dab638d3",
   "metadata": {},
   "outputs": [
    {
     "name": "stdout",
     "output_type": "stream",
     "text": [
      "Requirement already satisfied: pact-python in c:\\users\\raghu\\anaconda3\\lib\\site-packages (2.1.1)\n",
      "Requirement already satisfied: click~=8.0 in c:\\users\\raghu\\anaconda3\\lib\\site-packages (from pact-python) (8.0.4)\n",
      "Requirement already satisfied: fastapi~=0.0 in c:\\users\\raghu\\anaconda3\\lib\\site-packages (from pact-python) (0.109.2)\n",
      "Requirement already satisfied: psutil~=5.0 in c:\\users\\raghu\\anaconda3\\lib\\site-packages (from pact-python) (5.9.0)\n",
      "Requirement already satisfied: requests~=2.0 in c:\\users\\raghu\\appdata\\roaming\\python\\python311\\site-packages (from pact-python) (2.31.0)\n",
      "Requirement already satisfied: six~=1.0 in c:\\users\\raghu\\appdata\\roaming\\python\\python311\\site-packages (from pact-python) (1.16.0)\n",
      "Requirement already satisfied: uvicorn~=0.0 in c:\\users\\raghu\\anaconda3\\lib\\site-packages (from pact-python) (0.27.0.post1)\n",
      "Requirement already satisfied: colorama in c:\\users\\raghu\\appdata\\roaming\\python\\python311\\site-packages (from click~=8.0->pact-python) (0.4.6)\n",
      "Requirement already satisfied: pydantic!=1.8,!=1.8.1,!=2.0.0,!=2.0.1,!=2.1.0,<3.0.0,>=1.7.4 in c:\\users\\raghu\\anaconda3\\lib\\site-packages (from fastapi~=0.0->pact-python) (1.10.8)\n",
      "Requirement already satisfied: starlette<0.37.0,>=0.36.3 in c:\\users\\raghu\\anaconda3\\lib\\site-packages (from fastapi~=0.0->pact-python) (0.36.3)\n",
      "Requirement already satisfied: typing-extensions>=4.8.0 in c:\\users\\raghu\\anaconda3\\lib\\site-packages (from fastapi~=0.0->pact-python) (4.9.0)\n",
      "Requirement already satisfied: charset-normalizer<4,>=2 in c:\\users\\raghu\\appdata\\roaming\\python\\python311\\site-packages (from requests~=2.0->pact-python) (3.2.0)\n",
      "Requirement already satisfied: idna<4,>=2.5 in c:\\users\\raghu\\appdata\\roaming\\python\\python311\\site-packages (from requests~=2.0->pact-python) (3.4)\n",
      "Requirement already satisfied: urllib3<3,>=1.21.1 in c:\\users\\raghu\\anaconda3\\lib\\site-packages (from requests~=2.0->pact-python) (1.26.16)\n",
      "Requirement already satisfied: certifi>=2017.4.17 in c:\\users\\raghu\\appdata\\roaming\\python\\python311\\site-packages (from requests~=2.0->pact-python) (2023.5.7)\n",
      "Requirement already satisfied: h11>=0.8 in c:\\users\\raghu\\anaconda3\\lib\\site-packages (from uvicorn~=0.0->pact-python) (0.14.0)\n",
      "Requirement already satisfied: anyio<5,>=3.4.0 in c:\\users\\raghu\\anaconda3\\lib\\site-packages (from starlette<0.37.0,>=0.36.3->fastapi~=0.0->pact-python) (3.5.0)\n",
      "Requirement already satisfied: sniffio>=1.1 in c:\\users\\raghu\\anaconda3\\lib\\site-packages (from anyio<5,>=3.4.0->starlette<0.37.0,>=0.36.3->fastapi~=0.0->pact-python) (1.2.0)\n",
      "Note: you may need to restart the kernel to use updated packages.\n"
     ]
    }
   ],
   "source": [
    "pip install pact-python"
   ]
  },
  {
   "cell_type": "code",
   "execution_count": 23,
   "id": "531ecc27",
   "metadata": {},
   "outputs": [],
   "source": [
    "from pact import Consumer, Provider, Format\n",
    "import pytest\n",
    "import requests\n",
    "\n",
    "\n",
    "# Define the Consumer and Provider\n",
    "consumer = Consumer('YourConsumer')\n",
    "provider = Provider('YourProvider')\n",
    "\n",
    "# Start a new test case\n",
    "with pytest.raises(Exception) as e:\n",
    "    # Define the expected interaction\n",
    "    (consumer\n",
    "     .upon_receiving('a request for employee data')\n",
    "     .with_request('get', 'http://127.0.0.1:8000/employees/1')\n",
    "     .will_respond_with(200, body={\n",
    "         \"id\": 1,\n",
    "         \"name\": \"Vasu\",\n",
    "         \"age\": 22,\n",
    "         \"department\": \"CS\"\n",
    "     }))\n",
    "\n",
    "    # Set up the Pact between Consumer and Provider\n",
    "    with pact:\n",
    "        # Run your test code\n",
    "        response = requests.get('http://127.0.0.1:8000/employees/1')\n",
    "        assert response.status_code == 200\n",
    "        assert response.json() == {\n",
    "            \"id\": 1,\n",
    "            \"name\": \"Vasu\",\n",
    "            \"age\": 22,\n",
    "            \"department\": \"CS\"\n",
    "        }\n",
    "\n",
    "# Verify the interactions and generate the pact file\n",
    "pact.verify()\n"
   ]
  },
  {
   "cell_type": "code",
   "execution_count": null,
   "id": "aaf2a84c",
   "metadata": {},
   "outputs": [],
   "source": []
  }
 ],
 "metadata": {
  "kernelspec": {
   "display_name": "Python 3 (ipykernel)",
   "language": "python",
   "name": "python3"
  },
  "language_info": {
   "codemirror_mode": {
    "name": "ipython",
    "version": 3
   },
   "file_extension": ".py",
   "mimetype": "text/x-python",
   "name": "python",
   "nbconvert_exporter": "python",
   "pygments_lexer": "ipython3",
   "version": "3.11.5"
  }
 },
 "nbformat": 4,
 "nbformat_minor": 5
}
